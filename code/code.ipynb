{
 "cells": [
  {
   "cell_type": "markdown",
   "metadata": {},
   "source": [
    "# Analysis, detection & mitigation of felonious wallet accounts over the Ethereum blockchain network using machine learning techniques"
   ]
  },
  {
   "cell_type": "markdown",
   "metadata": {},
   "source": [
    "|BITS ID No.| Name of Student|Email | Mobile\n",
    "|-----------|------------------|---|--|\n",
    "|2019HC04178 | Anjali Sunder Naik|sundernaik.anjali@in.bosch.com|8147757114|"
   ]
  },
  {
   "cell_type": "markdown",
   "metadata": {},
   "source": [
    "## Import Libraries/Dataset"
   ]
  },
  {
   "cell_type": "code",
   "execution_count": 18,
   "metadata": {},
   "outputs": [],
   "source": [
    "import pandas as pd\n",
    "import matplotlib.pyplot as plt\n",
    "import requests"
   ]
  },
  {
   "cell_type": "code",
   "execution_count": 19,
   "metadata": {},
   "outputs": [],
   "source": [
    "#constants\n",
    "invalid_data_path = '../data/invalid/invalid.csv'\n",
    "json_dump_file_invalid = 'invalid_transactions.json'\n",
    "verified_open_source_license_data_path = '../data/valid/export-verified-contractaddress-opensource-license.csv'\n",
    "valid_data_path = '../data/valid/valid.csv'\n",
    "verified_data_path = '../data/valid/verified-audited.csv'\n",
    "api_key = '8BPTQD7WQ9NK9IVRZHQEDIQMX4C6MDBQ3C'"
   ]
  },
  {
   "cell_type": "markdown",
   "metadata": {},
   "source": [
    "## Data Visualization"
   ]
  },
  {
   "cell_type": "code",
   "execution_count": 20,
   "metadata": {
    "tags": []
   },
   "outputs": [
    {
     "name": "stdout",
     "output_type": "stream",
     "text": [
      "Total number of felonious accounts in the dataset:  6297\n"
     ]
    },
    {
     "data": {
      "text/plain": [
       "<AxesSubplot:title={'center':'Felonious Ethereum Accounts data'}>"
      ]
     },
     "execution_count": 20,
     "metadata": {},
     "output_type": "execute_result"
    },
    {
     "data": {
      "image/png": "[encoded data removed]",
      "text/plain": [
       "<Figure size 432x288 with 1 Axes>"
      ]
     },
     "metadata": {
      "needs_background": "light"
     },
     "output_type": "display_data"
    }
   ],
   "source": [
    "df = pd.read_csv(invalid_data_path)\n",
    "print(\"Total number of felonious accounts in the dataset: \",df.shape[0])\n",
    "plt.title(\"Felonious Ethereum Accounts data\")\n",
    "df['label'].value_counts().plot(kind='bar')"
   ]
  },
  {
   "cell_type": "code",
   "execution_count": 21,
   "metadata": {
    "tags": []
   },
   "outputs": [
    {
     "name": "stdout",
     "output_type": "stream",
     "text": [
      "Total number of verified accounts in the dataset with open source license:  5000\n"
     ]
    }
   ],
   "source": [
    "df = pd.read_csv(verified_open_source_license_data_path)\n",
    "print(\"Total number of verified accounts in the dataset with open source license: \",df.shape[0])"
   ]
  },
  {
   "cell_type": "code",
   "execution_count": 22,
   "metadata": {
    "tags": []
   },
   "outputs": [
    {
     "name": "stdout",
     "output_type": "stream",
     "text": [
      "Total number of audited Ethereum accounts in the dataset:  941\n"
     ]
    },
    {
     "data": {
      "text/plain": [
       "<AxesSubplot:title={'center':'Audited Ethereum Accounts data'}, xlabel='License', ylabel='Number of Ethereum Accounts'>"
      ]
     },
     "execution_count": 22,
     "metadata": {},
     "output_type": "execute_result"
    },
    {
     "data": {
      "image/png": "[encoded data removed]",
      "text/plain": [
       "<Figure size 432x288 with 1 Axes>"
      ]
     },
     "metadata": {
      "needs_background": "light"
     },
     "output_type": "display_data"
    }
   ],
   "source": [
    "df = pd.read_csv(verified_data_path)\n",
    "print(\"Total number of audited Ethereum accounts in the dataset: \",df.shape[0])\n",
    "plt.title(\"Audited Ethereum Accounts data\")\n",
    "plt.xlabel(\"License\")\n",
    "plt.ylabel(\"Number of Ethereum Accounts\")\n",
    "df['License'].value_counts().plot(kind='bar')"
   ]
  },
  {
   "cell_type": "code",
   "execution_count": 27,
   "metadata": {
    "tags": []
   },
   "outputs": [],
   "source": [
    "import json\n",
    " \n",
    "def init_json(filename):\n",
    "    # Initial Data to be written\n",
    "    dictionary ={\"transactions\": []}\n",
    "    # Serializing json \n",
    "    json_object = json.dumps(dictionary, indent = 4)\n",
    "    with open(filename, \"w\") as outfile:\n",
    "        json.dump(dictionary, outfile)\n",
    "\n",
    "def write_json(new_data, filename):\n",
    "    \n",
    "    with open(filename,'r+') as file:\n",
    "          # First we load existing data into a dict.\n",
    "        file_data = json.load(file)\n",
    "        # Join new_data with file_data inside emp_details\n",
    "        file_data[\"transactions\"].append(new_data)\n",
    "        # Sets file's current position at offset.\n",
    "        file.seek(0)\n",
    "        # convert back to json.\n",
    "        json.dump(file_data, file, indent = 4)"
   ]
  },
  {
   "cell_type": "code",
   "execution_count": 61,
   "metadata": {},
   "outputs": [],
   "source": [
    "# Fetching the tranasctions for invalid_data_path, we do this in batches of 200-500 to avoid time out\n",
    "\n",
    "import json\n",
    "\n",
    "\n",
    "df = pd.read_csv(invalid_data_path)\n",
    "init_json(json_dump_file_invalid)"
   ]
  },
  {
   "cell_type": "code",
   "execution_count": 62,
   "metadata": {},
   "outputs": [],
   "source": [
    "for ind in df.index:\n",
    "    if(ind>=0 and ind <200):\n",
    "        addr= df['Address'][ind]\n",
    "        r = requests.get('http://api.etherscan.io/api?module=account&action=txlist&address='+addr+'&sort=asc&apikey='+api_key)\n",
    "        data = r.json()\n",
    "        data['address']=addr\n",
    "        write_json(data,json_dump_file_invalid)"
   ]
  },
  {
   "cell_type": "code",
   "execution_count": 63,
   "metadata": {},
   "outputs": [
    {
     "name": "stdout",
     "output_type": "stream",
     "text": [
      "CPU times: user 18min 16s, sys: 46.5 s, total: 19min 3s\n",
      "Wall time: 22min 51s\n"
     ]
    }
   ],
   "source": [
    "%%time\n",
    "for ind in df.index:\n",
    "    if(ind>=200 and ind <500):\n",
    "        addr= df['Address'][ind]\n",
    "        r = requests.get('http://api.etherscan.io/api?module=account&action=txlist&address='+addr+'&sort=asc&apikey='+api_key)\n",
    "        data = r.json()\n",
    "        data['address']=addr\n",
    "        write_json(data,json_dump_file_invalid)"
   ]
  },
  {
   "cell_type": "code",
   "execution_count": 65,
   "metadata": {
    "tags": []
   },
   "outputs": [
    {
     "name": "stdout",
     "output_type": "stream",
     "text": [
      "CPU times: user 50min 14s, sys: 2min 15s, total: 52min 30s\n",
      "Wall time: 59min 54s\n"
     ]
    }
   ],
   "source": [
    "%%time\n",
    "for ind in df.index:\n",
    "    if(ind>=500 and ind <1000):\n",
    "        addr= df['Address'][ind]\n",
    "        r = requests.get('http://api.etherscan.io/api?module=account&action=txlist&address='+addr+'&sort=asc&apikey='+api_key)\n",
    "        data = r.json()\n",
    "        data['address']=addr\n",
    "        write_json(data,json_dump_file_invalid)"
   ]
  },
  {
   "cell_type": "code",
   "execution_count": 67,
   "metadata": {},
   "outputs": [
    {
     "name": "stdout",
     "output_type": "stream",
     "text": [
      "6297\n"
     ]
    }
   ],
   "source": [
    "c = 0\n",
    "for ind in df.index:\n",
    "    c +=1\n",
    "print(c)"
   ]
  },
  {
   "cell_type": "code",
   "execution_count": 68,
   "metadata": {},
   "outputs": [
    {
     "name": "stdout",
     "output_type": "stream",
     "text": [
      "CPU times: user 29min 58s, sys: 1min 24s, total: 31min 22s\n",
      "Wall time: 34min 11s\n"
     ]
    }
   ],
   "source": [
    "%%time\n",
    "for ind in df.index:\n",
    "    if(ind>=1000 and ind <1200):\n",
    "        addr= df['Address'][ind]\n",
    "        r = requests.get('http://api.etherscan.io/api?module=account&action=txlist&address='+addr+'&sort=asc&apikey='+api_key)\n",
    "        data = r.json()\n",
    "        data['address']=addr\n",
    "        write_json(data,json_dump_file_invalid)"
   ]
  },
  {
   "cell_type": "code",
   "execution_count": 9,
   "metadata": {},
   "outputs": [
    {
     "name": "stdout",
     "output_type": "stream",
     "text": [
      "CPU times: user 45min 16s, sys: 1min 29s, total: 46min 45s\n",
      "Wall time: 55min 1s\n"
     ]
    }
   ],
   "source": [
    "%%time\n",
    "df = pd.read_csv(invalid_data_path)\n",
    "for ind in df.index:\n",
    "    if(ind>=1200 and ind <1500):\n",
    "        addr= df['Address'][ind]\n",
    "        r = requests.get('http://api.etherscan.io/api?module=account&action=txlist&address='+addr+'&sort=asc&apikey='+api_key)\n",
    "        data = r.json()\n",
    "        data['address']=addr\n",
    "        write_json(data,json_dump_file_invalid)"
   ]
  },
  {
   "cell_type": "code",
   "execution_count": 10,
   "metadata": {},
   "outputs": [
    {
     "name": "stdout",
     "output_type": "stream",
     "text": [
      "CPU times: user 30min 45s, sys: 47.2 s, total: 31min 32s\n",
      "Wall time: 34min 7s\n"
     ]
    }
   ],
   "source": [
    "%%time\n",
    "df = pd.read_csv(invalid_data_path)\n",
    "for ind in df.index:\n",
    "    if(ind>=1500 and ind <1700):\n",
    "        addr= df['Address'][ind]\n",
    "        r = requests.get('http://api.etherscan.io/api?module=account&action=txlist&address='+addr+'&sort=asc&apikey='+api_key)\n",
    "        data = r.json()\n",
    "        data['address']=addr\n",
    "        write_json(data,json_dump_file_invalid)"
   ]
  },
  {
   "cell_type": "code",
   "execution_count": 12,
   "metadata": {},
   "outputs": [
    {
     "name": "stdout",
     "output_type": "stream",
     "text": [
      "CPU times: user 8min 26s, sys: 13.4 s, total: 8min 39s\n",
      "Wall time: 9min 22s\n"
     ]
    }
   ],
   "source": [
    "%%time\n",
    "df = pd.read_csv(invalid_data_path)\n",
    "for ind in df.index:\n",
    "    if(ind>=1700 and ind <2000):\n",
    "        addr= df['Address'][ind]\n",
    "        r = requests.get('http://api.etherscan.io/api?module=account&action=txlist&address='+addr+'&sort=asc&apikey='+api_key)\n",
    "        data = r.json()\n",
    "        data['address']=addr\n",
    "        write_json(data,json_dump_file_invalid)"
   ]
  },
  {
   "cell_type": "code",
   "execution_count": 28,
   "metadata": {},
   "outputs": [
    {
     "name": "stdout",
     "output_type": "stream",
     "text": [
      "CPU times: user 54min 28s, sys: 1min 25s, total: 55min 54s\n",
      "Wall time: 59min 31s\n"
     ]
    }
   ],
   "source": [
    "%%time\n",
    "df = pd.read_csv(invalid_data_path)\n",
    "for ind in df.index:\n",
    "    if(ind>=2308 and ind <2500):\n",
    "        addr= df['Address'][ind]\n",
    "        r = requests.get('http://api.etherscan.io/api?module=account&action=txlist&address='+addr+'&sort=asc&apikey='+api_key)\n",
    "        data = r.json()\n",
    "        data['address']=addr\n",
    "        write_json(data,json_dump_file_invalid)"
   ]
  },
  {
   "cell_type": "code",
   "execution_count": 29,
   "metadata": {},
   "outputs": [
    {
     "name": "stdout",
     "output_type": "stream",
     "text": [
      "CPU times: user 1h 16min 14s, sys: 2min 23s, total: 1h 18min 38s\n",
      "Wall time: 1h 26min 38s\n"
     ]
    }
   ],
   "source": [
    "%%time\n",
    "df = pd.read_csv(invalid_data_path)\n",
    "for ind in df.index:\n",
    "    if(ind>=2500 and ind <2700):\n",
    "        addr= df['Address'][ind]\n",
    "        r = requests.get('http://api.etherscan.io/api?module=account&action=txlist&address='+addr+'&sort=asc&apikey='+api_key)\n",
    "        data = r.json()\n",
    "        data['address']=addr\n",
    "        write_json(data,json_dump_file_invalid)"
   ]
  },
  {
   "cell_type": "code",
   "execution_count": 33,
   "metadata": {},
   "outputs": [
    {
     "name": "stdout",
     "output_type": "stream",
     "text": [
      "CPU times: user 55min 49s, sys: 1min 50s, total: 57min 40s\n",
      "Wall time: 1h 5min 49s\n"
     ]
    }
   ],
   "source": [
    "%%time\n",
    "df = pd.read_csv(invalid_data_path)\n",
    "for ind in df.index:\n",
    "    if(ind>=2760 and ind <2900):\n",
    "        addr= df['Address'][ind]\n",
    "        r = requests.get('http://api.etherscan.io/api?module=account&action=txlist&address='+addr+'&sort=asc&apikey='+api_key)\n",
    "        data = r.json()\n",
    "        data['address']=addr\n",
    "        write_json(data,json_dump_file_invalid)"
   ]
  },
  {
   "cell_type": "code",
   "execution_count": 34,
   "metadata": {},
   "outputs": [
    {
     "name": "stdout",
     "output_type": "stream",
     "text": [
      "CPU times: user 43min 46s, sys: 1min 31s, total: 45min 18s\n",
      "Wall time: 51min 52s\n"
     ]
    }
   ],
   "source": [
    "%%time\n",
    "df = pd.read_csv(invalid_data_path)\n",
    "for ind in df.index:\n",
    "    if(ind>=2900 and ind <3000):\n",
    "        addr= df['Address'][ind]\n",
    "        r = requests.get('http://api.etherscan.io/api?module=account&action=txlist&address='+addr+'&sort=asc&apikey='+api_key)\n",
    "        data = r.json()\n",
    "        data['address']=addr\n",
    "        write_json(data,json_dump_file_invalid)"
   ]
  },
  {
   "cell_type": "code",
   "execution_count": 35,
   "metadata": {},
   "outputs": [
    {
     "name": "stdout",
     "output_type": "stream",
     "text": [
      "CPU times: user 45min 22s, sys: 2min 43s, total: 48min 6s\n",
      "Wall time: 57min 42s\n"
     ]
    }
   ],
   "source": [
    "%%time\n",
    "df = pd.read_csv(invalid_data_path)\n",
    "for ind in df.index:\n",
    "    if(ind>=3000 and ind <3100):\n",
    "        addr= df['Address'][ind]\n",
    "        r = requests.get('http://api.etherscan.io/api?module=account&action=txlist&address='+addr+'&sort=asc&apikey='+api_key)\n",
    "        data = r.json()\n",
    "        data['address']=addr\n",
    "        write_json(data,json_dump_file_invalid)"
   ]
  },
  {
   "cell_type": "code",
   "execution_count": null,
   "metadata": {},
   "outputs": [],
   "source": []
  }
 ],
 "metadata": {
  "interpreter": {
   "hash": "fd69f43f58546b570e94fd7eba7b65e6bcc7a5bbc4eab0408017d18902915d69"
  },
  "kernelspec": {
   "display_name": "Python 3",
   "language": "python",
   "name": "python3"
  },
  "language_info": {
   "codemirror_mode": {
    "name": "ipython",
    "version": 3
   },
   "file_extension": ".py",
   "mimetype": "text/x-python",
   "name": "python",
   "nbconvert_exporter": "python",
   "pygments_lexer": "ipython3",
   "version": "3.7.12"
  }
 },
 "nbformat": 4,
 "nbformat_minor": 4
}
