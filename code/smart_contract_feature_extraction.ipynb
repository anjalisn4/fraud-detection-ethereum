{
 "cells": [
  {
   "cell_type": "markdown",
   "id": "distinct-balance",
   "metadata": {},
   "source": [
    "## Smart Contract Feature Extraction"
   ]
  },
  {
   "cell_type": "code",
   "execution_count": 9,
   "id": "automotive-evidence",
   "metadata": {},
   "outputs": [],
   "source": [
    "import json\n",
    " \n",
    "# Opening JSON file\n",
    "f = open('contract.json')\n",
    " \n",
    "# returns JSON object as\n",
    "# a dictionary\n",
    "data = json.load(f)"
   ]
  },
  {
   "cell_type": "code",
   "execution_count": 108,
   "id": "front-blackberry",
   "metadata": {},
   "outputs": [],
   "source": [
    "import datetime\n",
    "import numpy as np\n",
    "\n",
    "class SmartContract:\n",
    "    \n",
    "    def __init__(self,address,transactions):\n",
    "        self.address = address.lower()\n",
    "        self.transactions = transactions\n",
    "    \n",
    "    def getSmartContractAddress(self):\n",
    "        return self.address\n",
    "\n",
    "    def getSmartContractTransactions(self):\n",
    "        return self.transactions\n",
    "    \n",
    "    def f1_contract_creation_time(self):\n",
    "        return self.transactions[0]['timeStamp']   \n",
    "    \n",
    "    def f2_transaction_fee_spent_contract_creation(self):\n",
    "        return self.transactions[0]['gas']\n",
    "    \n",
    "    def f3_percentage_gas_used_contract_creation(self):\n",
    "        return 100*(int(self.transactions[0]['gasUsed'])/int(self.transactions[0]['gas']))\n",
    "\n",
    "    def f4_gas_price_contract_creation(self):\n",
    "        return self.transactions[0]['gasPrice']\n",
    "    \n",
    "    def f5_first_contract_invoke_time(self):\n",
    "        return self.transactions[1]['timeStamp']\n",
    "    \n",
    "    def f6_last_contract_invoke_time(self):\n",
    "        return self.transactions[len(self.transactions)-1]['timeStamp']\n",
    "\n",
    "    def f7_active_duration(self):\n",
    "        a = datetime.datetime.fromtimestamp(int(self.f5_first_contract_invoke_time()))\n",
    "        b = datetime.datetime.fromtimestamp(int(self.f6_last_contract_invoke_time()))\n",
    "        return ((b-a).total_seconds())\n",
    "    \n",
    "    def f8_total_invocations(self):\n",
    "        return len(self.transactions)-1\n",
    "\n",
    "    def f9_total_unique_invocations(self):\n",
    "        tx = [x['from']+\"-\"+ x['to'] for x in self.transactions]\n",
    "        numpy_array_tx = np.array(tx)\n",
    "        return len(np.unique(numpy_array_tx))\n",
    "\n",
    "    def f10_avg_gas_used_contract_invocations(self):\n",
    "        total_gas_used = sum([int(x['gasUsed']) for x in self.transactions if x['contractAddress']==\"\"])\n",
    "        return total_gas_used/self.f8_total_invocations()\n",
    "    \n",
    "    def f11_total_gas_price_contract_invocations(self):\n",
    "        total_gas_price = sum([int(x['gasPrice']) for x in self.transactions if x['contractAddress']==\"\"])\n",
    "        return total_gas_price\n",
    "    \n",
    "    def f12_avg_gas_price_contract_invocations(self):\n",
    "        total_gas_price = sum([int(x['gasPrice']) for x in self.transactions if x['contractAddress']==\"\"])\n",
    "        return total_gas_price/self.f8_total_invocations()\n",
    "    \n",
    "    def f13_total_tx_fee_contract_invocations(self):\n",
    "        total_tx_fee = sum([int(x['gas']) for x in self.transactions if x['contractAddress']==\"\"])\n",
    "        return total_tx_fee\n",
    "    \n",
    "    def f14_avg_tx_fee_contract_invocations(self):\n",
    "        total_tx_fee = sum([int(x['gas']) for x in self.transactions if x['contractAddress']==\"\"])\n",
    "        return total_tx_fee/self.f8_total_invocations()\n",
    "    \n",
    "    def f15_total_ether_contract_invocations(self):\n",
    "        total_ether = sum([int(x['value']) for x in self.transactions if x['contractAddress']==\"\"])\n",
    "        return total_ether\n",
    "    \n",
    "    def f16_average_ether_contract_invocations(self):\n",
    "        total_ether = sum([int(x['value']) for x in self.transactions if x['contractAddress']==\"\"])\n",
    "        return total_ether/self.f8_total_invocations()\n",
    "    \n",
    "    def f17_total_gas_used_contract_invocations(self):\n",
    "        total_gas_used = sum([int(x['gasUsed']) for x in self.transactions if x['contractAddress']==\"\"])\n",
    "        return total_gas_used\n",
    "    \n",
    "    def f18_avg_gas_used_contract_invocations(self):\n",
    "        total_gas_used = sum([int(x['gasUsed']) for x in self.transactions if x['contractAddress']==\"\"])\n",
    "        return total_gas_used/self.f8_total_invocations()"
   ]
  },
  {
   "cell_type": "code",
   "execution_count": 109,
   "id": "choice-cache",
   "metadata": {},
   "outputs": [],
   "source": [
    "sm = SmartContract(data['address'], data['result'])"
   ]
  },
  {
   "cell_type": "code",
   "execution_count": 110,
   "id": "loaded-oxford",
   "metadata": {},
   "outputs": [
    {
     "data": {
      "text/plain": [
       "281779711"
      ]
     },
     "execution_count": 110,
     "metadata": {},
     "output_type": "execute_result"
    }
   ],
   "source": [
    "sm.f17_total_gas_used_contract_invocations()"
   ]
  },
  {
   "cell_type": "code",
   "execution_count": 115,
   "id": "continent-familiar",
   "metadata": {},
   "outputs": [],
   "source": [
    "import enum\n",
    "\n",
    "class Accounts(enum.Enum):\n",
    "    EOA = 1\n",
    "    SmartContract = 2\n",
    "    Invalid = 3"
   ]
  },
  {
   "cell_type": "code",
   "execution_count": 125,
   "id": "considerable-buffer",
   "metadata": {},
   "outputs": [],
   "source": [
    "import enum\n",
    "\n",
    "class Accounts(enum.Enum):\n",
    "    EOA = 1\n",
    "    SmartContract = 2\n",
    "    Invalid = 3\n",
    "    \n",
    "def getAccountType(transactions):\n",
    "    if len(transactions)==0:\n",
    "        return Accounts['Invalid']\n",
    "    \n",
    "    first_tx = transactions[0]\n",
    "    \n",
    "    if first_tx[\"input\"] == \"0x\" and first_tx[\"contractAddress\"] == \"\" : \n",
    "        return Accounts['EOA']\n",
    "\n",
    "    if first_tx[\"to\"] == \"\" and first_tx[\"contractAddress\"]:\n",
    "        return Accounts['SmartContract']\n"
   ]
  },
  {
   "cell_type": "code",
   "execution_count": 127,
   "id": "insured-buffalo",
   "metadata": {},
   "outputs": [
    {
     "name": "stdout",
     "output_type": "stream",
     "text": [
      "Accounts.Invalid\n"
     ]
    }
   ],
   "source": [
    "print(getAccountType(data['result']))"
   ]
  },
  {
   "cell_type": "code",
   "execution_count": 131,
   "id": "welcome-riding",
   "metadata": {},
   "outputs": [
    {
     "name": "stdout",
     "output_type": "stream",
     "text": [
      "Accounts.EOA\n"
     ]
    }
   ],
   "source": [
    "import json\n",
    " \n",
    "# Opening JSON file\n",
    "f = open('eoa.json')\n",
    " \n",
    "# returns JSON object as\n",
    "# a dictionary\n",
    "data = json.load(f)\n",
    "print(getAccountType(data['result']))"
   ]
  },
  {
   "cell_type": "code",
   "execution_count": null,
   "id": "uniform-morning",
   "metadata": {},
   "outputs": [],
   "source": []
  }
 ],
 "metadata": {
  "kernelspec": {
   "display_name": "Python 3",
   "language": "python",
   "name": "python3"
  },
  "language_info": {
   "codemirror_mode": {
    "name": "ipython",
    "version": 3
   },
   "file_extension": ".py",
   "mimetype": "text/x-python",
   "name": "python",
   "nbconvert_exporter": "python",
   "pygments_lexer": "ipython3",
   "version": "3.7.12"
  }
 },
 "nbformat": 4,
 "nbformat_minor": 5
}
