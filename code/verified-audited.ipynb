{
 "cells": [
  {
   "cell_type": "code",
   "execution_count": 1,
   "id": "moved-rotation",
   "metadata": {},
   "outputs": [],
   "source": [
    "import pandas as pd\n",
    "import matplotlib.pyplot as plt\n",
    "import requests\n",
    "\n",
    "verified_data_path = '../data/valid/verified-audited.csv'\n",
    "json_dump_file_valid = 'valid_transactions3.json'\n",
    "api_key = '8BPTQD7WQ9NK9IVRZHQEDIQMX4C6MDBQ3C'"
   ]
  },
  {
   "cell_type": "code",
   "execution_count": 2,
   "id": "assured-baking",
   "metadata": {},
   "outputs": [],
   "source": [
    "import json\n",
    " \n",
    "def init_json(filename):\n",
    "    # Initial Data to be written\n",
    "    dictionary ={\"transactions\": []}\n",
    "    # Serializing json \n",
    "    json_object = json.dumps(dictionary, indent = 4)\n",
    "    with open(filename, \"w\") as outfile:\n",
    "        json.dump(dictionary, outfile)\n",
    "\n",
    "def write_json(new_data, filename):\n",
    "    \n",
    "    with open(filename,'r+') as file:\n",
    "          # First we load existing data into a dict.\n",
    "        file_data = json.load(file)\n",
    "        # Join new_data with file_data inside emp_details\n",
    "        file_data[\"transactions\"].append(new_data)\n",
    "        # Sets file's current position at offset.\n",
    "        file.seek(0)\n",
    "        # convert back to json.\n",
    "        json.dump(file_data, file, indent = 4)"
   ]
  },
  {
   "cell_type": "code",
   "execution_count": 3,
   "id": "aware-provincial",
   "metadata": {},
   "outputs": [],
   "source": [
    "# Fetching the tranasctions for invalid_data_path, we do this in batches of 200-500 to avoid time out\n",
    "\n",
    "import json\n",
    "\n",
    "\n",
    "df = pd.read_csv(verified_data_path)\n",
    "init_json(json_dump_file_valid)"
   ]
  },
  {
   "cell_type": "code",
   "execution_count": 4,
   "id": "rocky-handy",
   "metadata": {},
   "outputs": [
    {
     "data": {
      "text/plain": [
       "941"
      ]
     },
     "execution_count": 4,
     "metadata": {},
     "output_type": "execute_result"
    }
   ],
   "source": [
    "df.shape[0]"
   ]
  },
  {
   "cell_type": "code",
   "execution_count": 5,
   "id": "informed-distributor",
   "metadata": {},
   "outputs": [
    {
     "name": "stdout",
     "output_type": "stream",
     "text": [
      "CPU times: user 18min 39s, sys: 46.7 s, total: 19min 26s\n",
      "Wall time: 25min 46s\n"
     ]
    }
   ],
   "source": [
    "%%time\n",
    "df = pd.read_csv(verified_data_path)\n",
    "for ind in df.index:\n",
    "    if(ind>=0 and ind <=50):\n",
    "        addr= df['Address'][ind]\n",
    "        r = requests.get('http://api.etherscan.io/api?module=account&action=txlist&address='+addr+'&sort=asc&apikey='+api_key)\n",
    "        data = r.json()\n",
    "        data['address']=addr\n",
    "        write_json(data,json_dump_file_valid)"
   ]
  },
  {
   "cell_type": "code",
   "execution_count": 6,
   "id": "fantastic-closing",
   "metadata": {},
   "outputs": [
    {
     "name": "stdout",
     "output_type": "stream",
     "text": [
      "CPU times: user 44min 31s, sys: 1min 52s, total: 46min 23s\n",
      "Wall time: 55min 13s\n"
     ]
    }
   ],
   "source": [
    "%%time\n",
    "df = pd.read_csv(verified_data_path)\n",
    "for ind in df.index:\n",
    "    if(ind>50 and ind <=100):\n",
    "        addr= df['Address'][ind]\n",
    "        r = requests.get('http://api.etherscan.io/api?module=account&action=txlist&address='+addr+'&sort=asc&apikey='+api_key)\n",
    "        data = r.json()\n",
    "        data['address']=addr\n",
    "        write_json(data,json_dump_file_valid)"
   ]
  },
  {
   "cell_type": "code",
   "execution_count": null,
   "id": "acting-pearl",
   "metadata": {},
   "outputs": [],
   "source": [
    "%%time\n",
    "df = pd.read_csv(verified_data_path)\n",
    "for ind in df.index:\n",
    "    if(ind>100 and ind <=200):\n",
    "        addr= df['Address'][ind]\n",
    "        r = requests.get('http://api.etherscan.io/api?module=account&action=txlist&address='+addr+'&sort=asc&apikey='+api_key)\n",
    "        data = r.json()\n",
    "        data['address']=addr\n",
    "        write_json(data,json_dump_file_valid)"
   ]
  },
  {
   "cell_type": "code",
   "execution_count": null,
   "id": "crazy-apartment",
   "metadata": {},
   "outputs": [],
   "source": []
  }
 ],
 "metadata": {
  "kernelspec": {
   "display_name": "Python 3",
   "language": "python",
   "name": "python3"
  },
  "language_info": {
   "codemirror_mode": {
    "name": "ipython",
    "version": 3
   },
   "file_extension": ".py",
   "mimetype": "text/x-python",
   "name": "python",
   "nbconvert_exporter": "python",
   "pygments_lexer": "ipython3",
   "version": "3.7.12"
  }
 },
 "nbformat": 4,
 "nbformat_minor": 5
}
