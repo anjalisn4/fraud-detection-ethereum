{
 "cells": [
  {
   "cell_type": "code",
   "execution_count": 10,
   "id": "criminal-miami",
   "metadata": {},
   "outputs": [],
   "source": [
    "import pandas as pd\n",
    "import matplotlib.pyplot as plt\n",
    "import requests\n",
    "\n",
    "valid_data_path = '../data/valid/valid.csv'\n",
    "json_dump_file_valid = 'valid_transactions2.json'\n",
    "api_key = '8BPTQD7WQ9NK9IVRZHQEDIQMX4C6MDBQ3C'"
   ]
  },
  {
   "cell_type": "code",
   "execution_count": 11,
   "id": "breeding-reset",
   "metadata": {},
   "outputs": [],
   "source": [
    "import json\n",
    " \n",
    "def init_json(filename):\n",
    "    # Initial Data to be written\n",
    "    dictionary ={\"transactions\": []}\n",
    "    # Serializing json \n",
    "    json_object = json.dumps(dictionary, indent = 4)\n",
    "    with open(filename, \"w\") as outfile:\n",
    "        json.dump(dictionary, outfile)\n",
    "\n",
    "def write_json(new_data, filename):\n",
    "    \n",
    "    with open(filename,'r+') as file:\n",
    "          # First we load existing data into a dict.\n",
    "        file_data = json.load(file)\n",
    "        # Join new_data with file_data inside emp_details\n",
    "        file_data[\"transactions\"].append(new_data)\n",
    "        # Sets file's current position at offset.\n",
    "        file.seek(0)\n",
    "        # convert back to json.\n",
    "        json.dump(file_data, file, indent = 4)"
   ]
  },
  {
   "cell_type": "code",
   "execution_count": 12,
   "id": "least-possibility",
   "metadata": {},
   "outputs": [],
   "source": [
    "# Fetching the tranasctions for invalid_data_path, we do this in batches of 200-500 to avoid time out\n",
    "\n",
    "import json\n",
    "\n",
    "\n",
    "df = pd.read_csv(valid_data_path)\n",
    "init_json(json_dump_file_valid)"
   ]
  },
  {
   "cell_type": "code",
   "execution_count": 13,
   "id": "unauthorized-martin",
   "metadata": {},
   "outputs": [
    {
     "data": {
      "text/plain": [
       "400"
      ]
     },
     "execution_count": 13,
     "metadata": {},
     "output_type": "execute_result"
    }
   ],
   "source": [
    "df.shape[0]"
   ]
  },
  {
   "cell_type": "code",
   "execution_count": 14,
   "id": "sustained-royalty",
   "metadata": {},
   "outputs": [
    {
     "name": "stdout",
     "output_type": "stream",
     "text": [
      "CPU times: user 34min 51s, sys: 1min 8s, total: 35min 59s\n",
      "Wall time: 43min 35s\n"
     ]
    }
   ],
   "source": [
    "%%time\n",
    "df = pd.read_csv(valid_data_path)\n",
    "for ind in df.index:\n",
    "    if(ind>=0 and ind <=50):\n",
    "        addr= df['Address'][ind]\n",
    "        r = requests.get('http://api.etherscan.io/api?module=account&action=txlist&address='+addr+'&sort=asc&apikey='+api_key)\n",
    "        data = r.json()\n",
    "        data['address']=addr\n",
    "        write_json(data,json_dump_file_valid)"
   ]
  },
  {
   "cell_type": "code",
   "execution_count": 15,
   "id": "korean-wright",
   "metadata": {},
   "outputs": [
    {
     "name": "stdout",
     "output_type": "stream",
     "text": [
      "CPU times: user 1h 32min 43s, sys: 4min 40s, total: 1h 37min 24s\n",
      "Wall time: 1h 56min 7s\n"
     ]
    }
   ],
   "source": [
    "%%time\n",
    "df = pd.read_csv(valid_data_path)\n",
    "for ind in df.index:\n",
    "    if(ind>=50 and ind <=100):\n",
    "        addr= df['Address'][ind]\n",
    "        r = requests.get('http://api.etherscan.io/api?module=account&action=txlist&address='+addr+'&sort=asc&apikey='+api_key)\n",
    "        data = r.json()\n",
    "        data['address']=addr\n",
    "        write_json(data,json_dump_file_valid)"
   ]
  },
  {
   "cell_type": "code",
   "execution_count": null,
   "id": "pregnant-suicide",
   "metadata": {},
   "outputs": [],
   "source": []
  }
 ],
 "metadata": {
  "kernelspec": {
   "display_name": "Python 3",
   "language": "python",
   "name": "python3"
  },
  "language_info": {
   "codemirror_mode": {
    "name": "ipython",
    "version": 3
   },
   "file_extension": ".py",
   "mimetype": "text/x-python",
   "name": "python",
   "nbconvert_exporter": "python",
   "pygments_lexer": "ipython3",
   "version": "3.7.12"
  }
 },
 "nbformat": 4,
 "nbformat_minor": 5
}
